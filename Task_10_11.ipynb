{
  "nbformat": 4,
  "nbformat_minor": 0,
  "metadata": {
    "colab": {
      "name": "Task 10 - 11.ipynb",
      "provenance": [],
      "collapsed_sections": [],
      "authorship_tag": "ABX9TyMdWWip0oWjj8qZjbT9kCHQ",
      "include_colab_link": true
    },
    "kernelspec": {
      "name": "python3",
      "display_name": "Python 3"
    },
    "language_info": {
      "name": "python"
    }
  },
  "cells": [
    {
      "cell_type": "markdown",
      "metadata": {
        "id": "view-in-github",
        "colab_type": "text"
      },
      "source": [
        "<a href=\"https://colab.research.google.com/github/grvtaun/Python-/blob/main/Task_10_11.ipynb\" target=\"_parent\"><img src=\"https://colab.research.google.com/assets/colab-badge.svg\" alt=\"Open In Colab\"/></a>"
      ]
    },
    {
      "cell_type": "markdown",
      "metadata": {
        "id": "180GPV2Ery18"
      },
      "source": [
        "Task 10.1\n"
      ]
    },
    {
      "cell_type": "code",
      "metadata": {
        "colab": {
          "base_uri": "https://localhost:8080/"
        },
        "id": "1PiLkNFnqyA8",
        "outputId": "f750ecd0-0b4a-4aef-a930-7b4f03ced879"
      },
      "source": [
        "count = 0\n",
        "while(count<14):\n",
        "  count = count + 2\n",
        "  if(count%3 == 0):\n",
        "    continue \n",
        "  print(count)"
      ],
      "execution_count": null,
      "outputs": [
        {
          "output_type": "stream",
          "text": [
            "2\n",
            "4\n",
            "8\n",
            "10\n",
            "14\n"
          ],
          "name": "stdout"
        }
      ]
    },
    {
      "cell_type": "markdown",
      "metadata": {
        "id": "f3gggWcirxyN"
      },
      "source": [
        ""
      ]
    },
    {
      "cell_type": "markdown",
      "metadata": {
        "id": "b2TBs9Fxr7BR"
      },
      "source": [
        "Continue() skips a particular iteration. It returns the control to the beginning of the while loop. It can be used in both while loop and for loop.\n",
        "    "
      ]
    },
    {
      "cell_type": "code",
      "metadata": {
        "colab": {
          "base_uri": "https://localhost:8080/"
        },
        "id": "wYz_RzuCsyfq",
        "outputId": "55413c9d-d90a-4180-aaf3-b4abbb9fbdd2"
      },
      "source": [
        "for i in range(12):\n",
        "  if (i == 8 or i == 9):\n",
        "    continue\n",
        "  print(i)"
      ],
      "execution_count": null,
      "outputs": [
        {
          "output_type": "stream",
          "text": [
            "0\n",
            "1\n",
            "2\n",
            "3\n",
            "4\n",
            "5\n",
            "6\n",
            "7\n",
            "10\n",
            "11\n"
          ],
          "name": "stdout"
        }
      ]
    },
    {
      "cell_type": "code",
      "metadata": {
        "id": "ONimmyrGsyRb"
      },
      "source": [
        ""
      ],
      "execution_count": null,
      "outputs": []
    },
    {
      "cell_type": "markdown",
      "metadata": {
        "id": "dNgHoViGw4FG"
      },
      "source": [
        "Task 10.2"
      ]
    },
    {
      "cell_type": "markdown",
      "metadata": {
        "id": "tR5QB87FvKEs"
      },
      "source": [
        "Empty code is not allowed in loops,if else conditions,functions etc. So we use pass code. it does nothing but you can avoid getting an error as empty code is not allowed."
      ]
    },
    {
      "cell_type": "code",
      "metadata": {
        "id": "6XjgrPovveF8"
      },
      "source": [
        "for i in range(2>10):\n",
        "  print('OK')\n",
        "else: \n",
        "    pass\n"
      ],
      "execution_count": null,
      "outputs": []
    },
    {
      "cell_type": "markdown",
      "metadata": {
        "id": "kHlPt9O3w234"
      },
      "source": [
        ""
      ]
    },
    {
      "cell_type": "code",
      "metadata": {
        "id": "zT66Ht1Ww72T"
      },
      "source": [
        "Task 10.3"
      ],
      "execution_count": null,
      "outputs": []
    },
    {
      "cell_type": "code",
      "metadata": {
        "colab": {
          "base_uri": "https://localhost:8080/"
        },
        "id": "fjBNPQ18xj9K",
        "outputId": "c23a9549-6df1-44ba-9617-13acadccd1d2"
      },
      "source": [
        "count = 11\n",
        "while (count>1):\n",
        "  count = count - 1\n",
        "  print(count) "
      ],
      "execution_count": null,
      "outputs": [
        {
          "output_type": "stream",
          "text": [
            "10\n",
            "9\n",
            "8\n",
            "7\n",
            "6\n",
            "5\n",
            "4\n",
            "3\n",
            "2\n",
            "1\n"
          ],
          "name": "stdout"
        }
      ]
    },
    {
      "cell_type": "code",
      "metadata": {
        "colab": {
          "base_uri": "https://localhost:8080/"
        },
        "id": "EMXI2Xv23DWu",
        "outputId": "6f70686d-f59a-4bde-e440-cc93533d3112"
      },
      "source": [
        "tup1 = ('day','night')\n",
        "\n",
        "for i in tup1:\n",
        "  if (i == 'day'):\n",
        "      print('Good morning')"
      ],
      "execution_count": null,
      "outputs": [
        {
          "output_type": "stream",
          "text": [
            "Good morning\n"
          ],
          "name": "stdout"
        }
      ]
    },
    {
      "cell_type": "code",
      "metadata": {
        "colab": {
          "base_uri": "https://localhost:8080/"
        },
        "id": "CQTfjmka4q6Z",
        "outputId": "64ebd0ba-2ad1-4382-d047-eaf6a7928e22"
      },
      "source": [
        "tup1 = ('day','night')\n",
        "\n",
        "for i in tup1:\n",
        "  if (i=='day'):\n",
        "      continue;\n",
        "  print(i)"
      ],
      "execution_count": null,
      "outputs": [
        {
          "output_type": "stream",
          "text": [
            "night\n"
          ],
          "name": "stdout"
        }
      ]
    },
    {
      "cell_type": "code",
      "metadata": {
        "colab": {
          "base_uri": "https://localhost:8080/"
        },
        "id": "z2mUeu9N-UZn",
        "outputId": "4a109f23-bc1a-48ce-92a9-cffb9336e678"
      },
      "source": [
        "traffic = set([\"red\",\"green\",\"yellow\"])\n",
        "\n",
        "for color in traffic:\n",
        "  if(color == 'green'):\n",
        "    print('stop')\n",
        "  else:\n",
        "    print('go')\n",
        "\n"
      ],
      "execution_count": null,
      "outputs": [
        {
          "output_type": "stream",
          "text": [
            "stop\n",
            "go\n",
            "go\n"
          ],
          "name": "stdout"
        }
      ]
    },
    {
      "cell_type": "code",
      "metadata": {
        "colab": {
          "base_uri": "https://localhost:8080/"
        },
        "id": "bzcJXuDw7AgQ",
        "outputId": "2dbe6de6-79df-4ba6-c3fa-43606065e092"
      },
      "source": [
        "colors_dict = {'color': 'blue', 'fruit': 'apple', 'pet': 'dog'}\n",
        " \n",
        "for key in colors_dict.keys():\n",
        "    print(key)\n",
        " \n",
        "for item in colors_dict.items():\n",
        "    print(item)"
      ],
      "execution_count": null,
      "outputs": [
        {
          "output_type": "stream",
          "text": [
            "color\n",
            "fruit\n",
            "pet\n",
            "('color', 'blue')\n",
            "('fruit', 'apple')\n",
            "('pet', 'dog')\n"
          ],
          "name": "stdout"
        }
      ]
    },
    {
      "cell_type": "code",
      "metadata": {
        "colab": {
          "base_uri": "https://localhost:8080/"
        },
        "id": "WNipXLblAWz-",
        "outputId": "c2bbaf62-bba4-4128-8ef5-5889a9ab6cc5"
      },
      "source": [
        "dict1 = {'color': 'blue', 'fruit': 'apple', 'pet': 'dog'}\n",
        "\n",
        "for i in dict1.keys():\n",
        "  print(i)\n",
        "for i in dict1.values():\n",
        "  print(i)\n",
        "  \n"
      ],
      "execution_count": null,
      "outputs": [
        {
          "output_type": "stream",
          "text": [
            "color\n",
            "fruit\n",
            "pet\n",
            "blue\n",
            "apple\n",
            "dog\n"
          ],
          "name": "stdout"
        }
      ]
    },
    {
      "cell_type": "code",
      "metadata": {
        "colab": {
          "base_uri": "https://localhost:8080/"
        },
        "id": "vAKt-8zYZGmU",
        "outputId": "688377ad-6c35-49c5-ba81-b40d61d20999"
      },
      "source": [
        "def my_func(num):\n",
        "    num = num * 2\n",
        "    if(num>10):\n",
        "        return\n",
        "    else:\n",
        "        print(\"Hello\")\n",
        "my_func(3)\n"
      ],
      "execution_count": 21,
      "outputs": [
        {
          "output_type": "stream",
          "text": [
            "Hello\n"
          ],
          "name": "stdout"
        }
      ]
    },
    {
      "cell_type": "markdown",
      "metadata": {
        "id": "WmzNiQeddpdu"
      },
      "source": [
        "turn function calls itself based on the situation given. \n"
      ]
    },
    {
      "cell_type": "code",
      "metadata": {
        "colab": {
          "base_uri": "https://localhost:8080/"
        },
        "id": "jjyNrFVreH5j",
        "outputId": "9a1ca898-d11e-4819-c4ee-8b5af9c2eeb0"
      },
      "source": [
        "num1 = int(input('Enter the first value :'))\n",
        "num2 = int(input('Enter the second value :'))\n",
        "\n",
        "print(\"press 1 for addition,2 for subtraction,3 for multiplication and 4 for division\")\n",
        "nm = input('Please enter the operation :')\n",
        "\n",
        "def add(num1,num2):\n",
        "  return num1 + num2\n",
        "  \n",
        "def sub(num1,num2):\n",
        "  return num1 - num2\n",
        "  \n",
        "def multi(num1,num2):\n",
        "  return num1 * num2\n",
        "\n",
        "def dev(num1,num2):\n",
        "  return num1 / num2\n",
        "\n",
        "if nm == '1':\n",
        "  print(num1,'+', num2, '=', \n",
        "        add(num1,num2))\n",
        "\n",
        "elif nm =='2':\n",
        "  print(num1,'-',num2, '=', sub(num1,num2)) \n",
        "\n",
        "elif nm == '3':\n",
        "  print(num1, '*',num2,'=',multi(num1,num2))\n",
        "\n",
        "elif nm == '4':\n",
        "  print(num1,'/',num2,'=',dev(num1,num2))\n",
        "\n",
        "else:\n",
        "  print('Invalid input')"
      ],
      "execution_count": 74,
      "outputs": [
        {
          "output_type": "stream",
          "text": [
            "Enter the first value :4\n",
            "Enter the second value :3\n",
            "press 1 for addition,2 for subtraction,3 for multiplication and 4 for division\n",
            "Please enter the operation :1\n",
            "4 + 3 = 7\n"
          ],
          "name": "stdout"
        }
      ]
    },
    {
      "cell_type": "code",
      "metadata": {
        "colab": {
          "base_uri": "https://localhost:8080/"
        },
        "id": "Ib5Wys_Yzk7p",
        "outputId": "a118d779-7df7-4000-98dc-080c31052b34"
      },
      "source": [
        "\n",
        "def func1():\n",
        "    print(\"func1\")\n",
        "\n",
        "def func2():\n",
        "    print(\"func2\")\n",
        "    func1()\n",
        "    \n",
        "def func3():\n",
        "    print(\"func3\")\n",
        "    func2()\n",
        "\n",
        "func1()\n"
      ],
      "execution_count": 58,
      "outputs": [
        {
          "output_type": "stream",
          "text": [
            "func1\n"
          ],
          "name": "stdout"
        }
      ]
    }
  ]
}