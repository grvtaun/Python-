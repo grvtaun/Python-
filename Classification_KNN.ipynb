{
  "nbformat": 4,
  "nbformat_minor": 0,
  "metadata": {
    "colab": {
      "name": "Classification KNN.ipynb",
      "provenance": [],
      "authorship_tag": "ABX9TyMButC+zhnBnv0oT3PK7fbH",
      "include_colab_link": true
    },
    "kernelspec": {
      "name": "python3",
      "display_name": "Python 3"
    },
    "language_info": {
      "name": "python"
    }
  },
  "cells": [
    {
      "cell_type": "markdown",
      "metadata": {
        "id": "view-in-github",
        "colab_type": "text"
      },
      "source": [
        "<a href=\"https://colab.research.google.com/github/grvtaun/Python-/blob/main/Classification_KNN.ipynb\" target=\"_parent\"><img src=\"https://colab.research.google.com/assets/colab-badge.svg\" alt=\"Open In Colab\"/></a>"
      ]
    },
    {
      "cell_type": "code",
      "metadata": {
        "id": "tZVoX6nmbRZH"
      },
      "source": [
        "\n",
        "import numpy as np\n",
        "import pandas as pd\n",
        "import matplotlib.pyplot as plt"
      ],
      "execution_count": null,
      "outputs": []
    },
    {
      "cell_type": "code",
      "metadata": {
        "id": "6JCYy2NMbagF"
      },
      "source": [
        "df = pd.read_csv('covid_data_kerala.csv')"
      ],
      "execution_count": null,
      "outputs": []
    },
    {
      "cell_type": "markdown",
      "metadata": {
        "id": "MtMsLvz6bwpl"
      },
      "source": [
        "Performing EDA"
      ]
    },
    {
      "cell_type": "code",
      "metadata": {
        "colab": {
          "base_uri": "https://localhost:8080/"
        },
        "id": "LZMSfpVOb24c",
        "outputId": "7337876c-8fa6-45b2-80e4-77537bf8cd47"
      },
      "source": [
        "df.shape"
      ],
      "execution_count": null,
      "outputs": [
        {
          "output_type": "execute_result",
          "data": {
            "text/plain": [
              "(541, 4)"
            ]
          },
          "metadata": {
            "tags": []
          },
          "execution_count": 54
        }
      ]
    },
    {
      "cell_type": "code",
      "metadata": {
        "colab": {
          "base_uri": "https://localhost:8080/"
        },
        "id": "4bnc6R7Zb8-0",
        "outputId": "134bfaaf-a27c-46fc-b211-df91020b680b"
      },
      "source": [
        "df.head"
      ],
      "execution_count": null,
      "outputs": [
        {
          "output_type": "execute_result",
          "data": {
            "text/plain": [
              "<bound method NDFrame.head of      Date  Confirmed  Recovered  Deceased\n",
              "0     Jan          0        NaN         0\n",
              "1       F          0        NaN         0\n",
              "2       F          1        NaN         0\n",
              "3       F          1        NaN         0\n",
              "4       F          0        NaN         0\n",
              "..    ...        ...        ...       ...\n",
              "536  June      16848    12052.0       104\n",
              "537  June      17481    14131.0       105\n",
              "538  June      12818    13454.0       122\n",
              "539  June      17518    11067.0       132\n",
              "540  June      18531    15507.0        98\n",
              "\n",
              "[541 rows x 4 columns]>"
            ]
          },
          "metadata": {
            "tags": []
          },
          "execution_count": 55
        }
      ]
    },
    {
      "cell_type": "code",
      "metadata": {
        "colab": {
          "base_uri": "https://localhost:8080/"
        },
        "id": "_IIMEcyKvrJx",
        "outputId": "aaa4e0dd-812b-4f00-c5ea-252ba71398f4"
      },
      "source": [
        "df.tail"
      ],
      "execution_count": null,
      "outputs": [
        {
          "output_type": "execute_result",
          "data": {
            "text/plain": [
              "<bound method NDFrame.tail of      Date  Confirmed  Recovered  Deceased\n",
              "0     Jan          0        NaN         0\n",
              "1       F          0        NaN         0\n",
              "2       F          1        NaN         0\n",
              "3       F          1        NaN         0\n",
              "4       F          0        NaN         0\n",
              "..    ...        ...        ...       ...\n",
              "536  June      16848    12052.0       104\n",
              "537  June      17481    14131.0       105\n",
              "538  June      12818    13454.0       122\n",
              "539  June      17518    11067.0       132\n",
              "540  June      18531    15507.0        98\n",
              "\n",
              "[541 rows x 4 columns]>"
            ]
          },
          "metadata": {
            "tags": []
          },
          "execution_count": 56
        }
      ]
    },
    {
      "cell_type": "code",
      "metadata": {
        "colab": {
          "base_uri": "https://localhost:8080/"
        },
        "id": "F5Yd7IdMcOLm",
        "outputId": "a645a1c2-1077-4791-b775-d0d02ed06a89"
      },
      "source": [
        "df.isna().sum()"
      ],
      "execution_count": null,
      "outputs": [
        {
          "output_type": "execute_result",
          "data": {
            "text/plain": [
              "Date          0\n",
              "Confirmed     0\n",
              "Recovered    56\n",
              "Deceased      0\n",
              "dtype: int64"
            ]
          },
          "metadata": {
            "tags": []
          },
          "execution_count": 57
        }
      ]
    },
    {
      "cell_type": "code",
      "metadata": {
        "colab": {
          "base_uri": "https://localhost:8080/"
        },
        "id": "kA1ZPZsqdxJ-",
        "outputId": "85a56f21-d000-4977-e2fe-e7cd62ee668e"
      },
      "source": [
        "df.info()"
      ],
      "execution_count": null,
      "outputs": [
        {
          "output_type": "stream",
          "text": [
            "<class 'pandas.core.frame.DataFrame'>\n",
            "RangeIndex: 541 entries, 0 to 540\n",
            "Data columns (total 4 columns):\n",
            " #   Column     Non-Null Count  Dtype  \n",
            "---  ------     --------------  -----  \n",
            " 0   Date       541 non-null    object \n",
            " 1   Confirmed  541 non-null    int64  \n",
            " 2   Recovered  485 non-null    float64\n",
            " 3   Deceased   541 non-null    int64  \n",
            "dtypes: float64(1), int64(2), object(1)\n",
            "memory usage: 17.0+ KB\n"
          ],
          "name": "stdout"
        }
      ]
    },
    {
      "cell_type": "code",
      "metadata": {
        "colab": {
          "base_uri": "https://localhost:8080/",
          "height": 297
        },
        "id": "Hm5eknU5eFBA",
        "outputId": "76526e28-2b3a-48cd-91aa-a363c1aae604"
      },
      "source": [
        "df.describe()"
      ],
      "execution_count": null,
      "outputs": [
        {
          "output_type": "execute_result",
          "data": {
            "text/html": [
              "<div>\n",
              "<style scoped>\n",
              "    .dataframe tbody tr th:only-of-type {\n",
              "        vertical-align: middle;\n",
              "    }\n",
              "\n",
              "    .dataframe tbody tr th {\n",
              "        vertical-align: top;\n",
              "    }\n",
              "\n",
              "    .dataframe thead th {\n",
              "        text-align: right;\n",
              "    }\n",
              "</style>\n",
              "<table border=\"1\" class=\"dataframe\">\n",
              "  <thead>\n",
              "    <tr style=\"text-align: right;\">\n",
              "      <th></th>\n",
              "      <th>Confirmed</th>\n",
              "      <th>Recovered</th>\n",
              "      <th>Deceased</th>\n",
              "    </tr>\n",
              "  </thead>\n",
              "  <tbody>\n",
              "    <tr>\n",
              "      <th>count</th>\n",
              "      <td>541.000000</td>\n",
              "      <td>485.000000</td>\n",
              "      <td>541.000000</td>\n",
              "    </tr>\n",
              "    <tr>\n",
              "      <th>mean</th>\n",
              "      <td>6014.903882</td>\n",
              "      <td>6391.354639</td>\n",
              "      <td>29.517560</td>\n",
              "    </tr>\n",
              "    <tr>\n",
              "      <th>std</th>\n",
              "      <td>8492.585661</td>\n",
              "      <td>9357.309537</td>\n",
              "      <td>46.289289</td>\n",
              "    </tr>\n",
              "    <tr>\n",
              "      <th>min</th>\n",
              "      <td>0.000000</td>\n",
              "      <td>0.000000</td>\n",
              "      <td>0.000000</td>\n",
              "    </tr>\n",
              "    <tr>\n",
              "      <th>25%</th>\n",
              "      <td>94.000000</td>\n",
              "      <td>688.000000</td>\n",
              "      <td>0.000000</td>\n",
              "    </tr>\n",
              "    <tr>\n",
              "      <th>50%</th>\n",
              "      <td>3215.000000</td>\n",
              "      <td>4172.000000</td>\n",
              "      <td>15.000000</td>\n",
              "    </tr>\n",
              "    <tr>\n",
              "      <th>75%</th>\n",
              "      <td>6862.000000</td>\n",
              "      <td>7015.000000</td>\n",
              "      <td>26.000000</td>\n",
              "    </tr>\n",
              "    <tr>\n",
              "      <th>max</th>\n",
              "      <td>43529.000000</td>\n",
              "      <td>99651.000000</td>\n",
              "      <td>227.000000</td>\n",
              "    </tr>\n",
              "  </tbody>\n",
              "</table>\n",
              "</div>"
            ],
            "text/plain": [
              "          Confirmed     Recovered    Deceased\n",
              "count    541.000000    485.000000  541.000000\n",
              "mean    6014.903882   6391.354639   29.517560\n",
              "std     8492.585661   9357.309537   46.289289\n",
              "min        0.000000      0.000000    0.000000\n",
              "25%       94.000000    688.000000    0.000000\n",
              "50%     3215.000000   4172.000000   15.000000\n",
              "75%     6862.000000   7015.000000   26.000000\n",
              "max    43529.000000  99651.000000  227.000000"
            ]
          },
          "metadata": {
            "tags": []
          },
          "execution_count": 59
        }
      ]
    },
    {
      "cell_type": "code",
      "metadata": {
        "colab": {
          "base_uri": "https://localhost:8080/",
          "height": 419
        },
        "id": "cILxphwHvJyH",
        "outputId": "a6dea4dd-3894-4953-ab78-b7a9440ddb62"
      },
      "source": [
        "df.dropna()"
      ],
      "execution_count": null,
      "outputs": [
        {
          "output_type": "execute_result",
          "data": {
            "text/html": [
              "<div>\n",
              "<style scoped>\n",
              "    .dataframe tbody tr th:only-of-type {\n",
              "        vertical-align: middle;\n",
              "    }\n",
              "\n",
              "    .dataframe tbody tr th {\n",
              "        vertical-align: top;\n",
              "    }\n",
              "\n",
              "    .dataframe thead th {\n",
              "        text-align: right;\n",
              "    }\n",
              "</style>\n",
              "<table border=\"1\" class=\"dataframe\">\n",
              "  <thead>\n",
              "    <tr style=\"text-align: right;\">\n",
              "      <th></th>\n",
              "      <th>Date</th>\n",
              "      <th>Confirmed</th>\n",
              "      <th>Recovered</th>\n",
              "      <th>Deceased</th>\n",
              "    </tr>\n",
              "  </thead>\n",
              "  <tbody>\n",
              "    <tr>\n",
              "      <th>56</th>\n",
              "      <td>Mar</td>\n",
              "      <td>39</td>\n",
              "      <td>3.0</td>\n",
              "      <td>0</td>\n",
              "    </tr>\n",
              "    <tr>\n",
              "      <th>57</th>\n",
              "      <td>Mar</td>\n",
              "      <td>6</td>\n",
              "      <td>8.0</td>\n",
              "      <td>1</td>\n",
              "    </tr>\n",
              "    <tr>\n",
              "      <th>58</th>\n",
              "      <td>Mar</td>\n",
              "      <td>20</td>\n",
              "      <td>4.0</td>\n",
              "      <td>0</td>\n",
              "    </tr>\n",
              "    <tr>\n",
              "      <th>59</th>\n",
              "      <td>Mar</td>\n",
              "      <td>32</td>\n",
              "      <td>0.0</td>\n",
              "      <td>0</td>\n",
              "    </tr>\n",
              "    <tr>\n",
              "      <th>60</th>\n",
              "      <td>Mar</td>\n",
              "      <td>7</td>\n",
              "      <td>4.0</td>\n",
              "      <td>1</td>\n",
              "    </tr>\n",
              "    <tr>\n",
              "      <th>...</th>\n",
              "      <td>...</td>\n",
              "      <td>...</td>\n",
              "      <td>...</td>\n",
              "      <td>...</td>\n",
              "    </tr>\n",
              "    <tr>\n",
              "      <th>536</th>\n",
              "      <td>June</td>\n",
              "      <td>16848</td>\n",
              "      <td>12052.0</td>\n",
              "      <td>104</td>\n",
              "    </tr>\n",
              "    <tr>\n",
              "      <th>537</th>\n",
              "      <td>June</td>\n",
              "      <td>17481</td>\n",
              "      <td>14131.0</td>\n",
              "      <td>105</td>\n",
              "    </tr>\n",
              "    <tr>\n",
              "      <th>538</th>\n",
              "      <td>June</td>\n",
              "      <td>12818</td>\n",
              "      <td>13454.0</td>\n",
              "      <td>122</td>\n",
              "    </tr>\n",
              "    <tr>\n",
              "      <th>539</th>\n",
              "      <td>June</td>\n",
              "      <td>17518</td>\n",
              "      <td>11067.0</td>\n",
              "      <td>132</td>\n",
              "    </tr>\n",
              "    <tr>\n",
              "      <th>540</th>\n",
              "      <td>June</td>\n",
              "      <td>18531</td>\n",
              "      <td>15507.0</td>\n",
              "      <td>98</td>\n",
              "    </tr>\n",
              "  </tbody>\n",
              "</table>\n",
              "<p>485 rows × 4 columns</p>\n",
              "</div>"
            ],
            "text/plain": [
              "     Date  Confirmed  Recovered  Deceased\n",
              "56    Mar         39        3.0         0\n",
              "57    Mar          6        8.0         1\n",
              "58    Mar         20        4.0         0\n",
              "59    Mar         32        0.0         0\n",
              "60    Mar          7        4.0         1\n",
              "..    ...        ...        ...       ...\n",
              "536  June      16848    12052.0       104\n",
              "537  June      17481    14131.0       105\n",
              "538  June      12818    13454.0       122\n",
              "539  June      17518    11067.0       132\n",
              "540  June      18531    15507.0        98\n",
              "\n",
              "[485 rows x 4 columns]"
            ]
          },
          "metadata": {
            "tags": []
          },
          "execution_count": 60
        }
      ]
    },
    {
      "cell_type": "code",
      "metadata": {
        "colab": {
          "base_uri": "https://localhost:8080/",
          "height": 204
        },
        "id": "GX6Im-dSfz9A",
        "outputId": "21e70f7b-df0f-4f05-dc2a-5b1e0874c176"
      },
      "source": [
        "\n",
        "df.head()"
      ],
      "execution_count": null,
      "outputs": [
        {
          "output_type": "execute_result",
          "data": {
            "text/html": [
              "<div>\n",
              "<style scoped>\n",
              "    .dataframe tbody tr th:only-of-type {\n",
              "        vertical-align: middle;\n",
              "    }\n",
              "\n",
              "    .dataframe tbody tr th {\n",
              "        vertical-align: top;\n",
              "    }\n",
              "\n",
              "    .dataframe thead th {\n",
              "        text-align: right;\n",
              "    }\n",
              "</style>\n",
              "<table border=\"1\" class=\"dataframe\">\n",
              "  <thead>\n",
              "    <tr style=\"text-align: right;\">\n",
              "      <th></th>\n",
              "      <th>Date</th>\n",
              "      <th>Confirmed</th>\n",
              "      <th>Recovered</th>\n",
              "      <th>Deceased</th>\n",
              "    </tr>\n",
              "  </thead>\n",
              "  <tbody>\n",
              "    <tr>\n",
              "      <th>0</th>\n",
              "      <td>Jan</td>\n",
              "      <td>0</td>\n",
              "      <td>NaN</td>\n",
              "      <td>0</td>\n",
              "    </tr>\n",
              "    <tr>\n",
              "      <th>1</th>\n",
              "      <td>F</td>\n",
              "      <td>0</td>\n",
              "      <td>NaN</td>\n",
              "      <td>0</td>\n",
              "    </tr>\n",
              "    <tr>\n",
              "      <th>2</th>\n",
              "      <td>F</td>\n",
              "      <td>1</td>\n",
              "      <td>NaN</td>\n",
              "      <td>0</td>\n",
              "    </tr>\n",
              "    <tr>\n",
              "      <th>3</th>\n",
              "      <td>F</td>\n",
              "      <td>1</td>\n",
              "      <td>NaN</td>\n",
              "      <td>0</td>\n",
              "    </tr>\n",
              "    <tr>\n",
              "      <th>4</th>\n",
              "      <td>F</td>\n",
              "      <td>0</td>\n",
              "      <td>NaN</td>\n",
              "      <td>0</td>\n",
              "    </tr>\n",
              "  </tbody>\n",
              "</table>\n",
              "</div>"
            ],
            "text/plain": [
              "  Date  Confirmed  Recovered  Deceased\n",
              "0  Jan          0        NaN         0\n",
              "1    F          0        NaN         0\n",
              "2    F          1        NaN         0\n",
              "3    F          1        NaN         0\n",
              "4    F          0        NaN         0"
            ]
          },
          "metadata": {
            "tags": []
          },
          "execution_count": 61
        }
      ]
    },
    {
      "cell_type": "code",
      "metadata": {
        "colab": {
          "base_uri": "https://localhost:8080/",
          "height": 204
        },
        "id": "KVKu-otCw3sw",
        "outputId": "28608594-e2f3-48ca-8c6e-759ee68ef540"
      },
      "source": [
        "df.tail()"
      ],
      "execution_count": null,
      "outputs": [
        {
          "output_type": "execute_result",
          "data": {
            "text/html": [
              "<div>\n",
              "<style scoped>\n",
              "    .dataframe tbody tr th:only-of-type {\n",
              "        vertical-align: middle;\n",
              "    }\n",
              "\n",
              "    .dataframe tbody tr th {\n",
              "        vertical-align: top;\n",
              "    }\n",
              "\n",
              "    .dataframe thead th {\n",
              "        text-align: right;\n",
              "    }\n",
              "</style>\n",
              "<table border=\"1\" class=\"dataframe\">\n",
              "  <thead>\n",
              "    <tr style=\"text-align: right;\">\n",
              "      <th></th>\n",
              "      <th>Date</th>\n",
              "      <th>Confirmed</th>\n",
              "      <th>Recovered</th>\n",
              "      <th>Deceased</th>\n",
              "    </tr>\n",
              "  </thead>\n",
              "  <tbody>\n",
              "    <tr>\n",
              "      <th>536</th>\n",
              "      <td>June</td>\n",
              "      <td>16848</td>\n",
              "      <td>12052.0</td>\n",
              "      <td>104</td>\n",
              "    </tr>\n",
              "    <tr>\n",
              "      <th>537</th>\n",
              "      <td>June</td>\n",
              "      <td>17481</td>\n",
              "      <td>14131.0</td>\n",
              "      <td>105</td>\n",
              "    </tr>\n",
              "    <tr>\n",
              "      <th>538</th>\n",
              "      <td>June</td>\n",
              "      <td>12818</td>\n",
              "      <td>13454.0</td>\n",
              "      <td>122</td>\n",
              "    </tr>\n",
              "    <tr>\n",
              "      <th>539</th>\n",
              "      <td>June</td>\n",
              "      <td>17518</td>\n",
              "      <td>11067.0</td>\n",
              "      <td>132</td>\n",
              "    </tr>\n",
              "    <tr>\n",
              "      <th>540</th>\n",
              "      <td>June</td>\n",
              "      <td>18531</td>\n",
              "      <td>15507.0</td>\n",
              "      <td>98</td>\n",
              "    </tr>\n",
              "  </tbody>\n",
              "</table>\n",
              "</div>"
            ],
            "text/plain": [
              "     Date  Confirmed  Recovered  Deceased\n",
              "536  June      16848    12052.0       104\n",
              "537  June      17481    14131.0       105\n",
              "538  June      12818    13454.0       122\n",
              "539  June      17518    11067.0       132\n",
              "540  June      18531    15507.0        98"
            ]
          },
          "metadata": {
            "tags": []
          },
          "execution_count": 62
        }
      ]
    },
    {
      "cell_type": "code",
      "metadata": {
        "colab": {
          "base_uri": "https://localhost:8080/"
        },
        "id": "YefoAVnKxC_o",
        "outputId": "b692a6af-34f4-4515-fcf9-468df0cb0dbd"
      },
      "source": [
        "df.head"
      ],
      "execution_count": null,
      "outputs": [
        {
          "output_type": "execute_result",
          "data": {
            "text/plain": [
              "<bound method NDFrame.head of      Date  Confirmed  Recovered  Deceased\n",
              "0     Jan          0        NaN         0\n",
              "1       F          0        NaN         0\n",
              "2       F          1        NaN         0\n",
              "3       F          1        NaN         0\n",
              "4       F          0        NaN         0\n",
              "..    ...        ...        ...       ...\n",
              "536  June      16848    12052.0       104\n",
              "537  June      17481    14131.0       105\n",
              "538  June      12818    13454.0       122\n",
              "539  June      17518    11067.0       132\n",
              "540  June      18531    15507.0        98\n",
              "\n",
              "[541 rows x 4 columns]>"
            ]
          },
          "metadata": {
            "tags": []
          },
          "execution_count": 63
        }
      ]
    },
    {
      "cell_type": "code",
      "metadata": {
        "colab": {
          "base_uri": "https://localhost:8080/",
          "height": 419
        },
        "id": "3gcYoAvnumDe",
        "outputId": "eb266080-2617-4226-caf1-b46a094a094a"
      },
      "source": [
        "df.replace('Jan',1)\n",
        "df.replace('F',2)\n",
        "df.replace('Mar',3)\n",
        "df.replace('Apr',4)\n",
        "df.replace('May',5)\n",
        "df.replace('June',6)\n",
        "df.replace('July',7)\n",
        "df.replace('Aug',8)\n",
        "df.replace('Sep',9)\n",
        "df.replace('Oct',10)\n",
        "df.replace('N',11)\n",
        "df.replace('D',12)\n"
      ],
      "execution_count": null,
      "outputs": [
        {
          "output_type": "execute_result",
          "data": {
            "text/html": [
              "<div>\n",
              "<style scoped>\n",
              "    .dataframe tbody tr th:only-of-type {\n",
              "        vertical-align: middle;\n",
              "    }\n",
              "\n",
              "    .dataframe tbody tr th {\n",
              "        vertical-align: top;\n",
              "    }\n",
              "\n",
              "    .dataframe thead th {\n",
              "        text-align: right;\n",
              "    }\n",
              "</style>\n",
              "<table border=\"1\" class=\"dataframe\">\n",
              "  <thead>\n",
              "    <tr style=\"text-align: right;\">\n",
              "      <th></th>\n",
              "      <th>Date</th>\n",
              "      <th>Confirmed</th>\n",
              "      <th>Recovered</th>\n",
              "      <th>Deceased</th>\n",
              "    </tr>\n",
              "  </thead>\n",
              "  <tbody>\n",
              "    <tr>\n",
              "      <th>0</th>\n",
              "      <td>Jan</td>\n",
              "      <td>0</td>\n",
              "      <td>NaN</td>\n",
              "      <td>0</td>\n",
              "    </tr>\n",
              "    <tr>\n",
              "      <th>1</th>\n",
              "      <td>F</td>\n",
              "      <td>0</td>\n",
              "      <td>NaN</td>\n",
              "      <td>0</td>\n",
              "    </tr>\n",
              "    <tr>\n",
              "      <th>2</th>\n",
              "      <td>F</td>\n",
              "      <td>1</td>\n",
              "      <td>NaN</td>\n",
              "      <td>0</td>\n",
              "    </tr>\n",
              "    <tr>\n",
              "      <th>3</th>\n",
              "      <td>F</td>\n",
              "      <td>1</td>\n",
              "      <td>NaN</td>\n",
              "      <td>0</td>\n",
              "    </tr>\n",
              "    <tr>\n",
              "      <th>4</th>\n",
              "      <td>F</td>\n",
              "      <td>0</td>\n",
              "      <td>NaN</td>\n",
              "      <td>0</td>\n",
              "    </tr>\n",
              "    <tr>\n",
              "      <th>...</th>\n",
              "      <td>...</td>\n",
              "      <td>...</td>\n",
              "      <td>...</td>\n",
              "      <td>...</td>\n",
              "    </tr>\n",
              "    <tr>\n",
              "      <th>536</th>\n",
              "      <td>June</td>\n",
              "      <td>16848</td>\n",
              "      <td>12052.0</td>\n",
              "      <td>104</td>\n",
              "    </tr>\n",
              "    <tr>\n",
              "      <th>537</th>\n",
              "      <td>June</td>\n",
              "      <td>17481</td>\n",
              "      <td>14131.0</td>\n",
              "      <td>105</td>\n",
              "    </tr>\n",
              "    <tr>\n",
              "      <th>538</th>\n",
              "      <td>June</td>\n",
              "      <td>12818</td>\n",
              "      <td>13454.0</td>\n",
              "      <td>122</td>\n",
              "    </tr>\n",
              "    <tr>\n",
              "      <th>539</th>\n",
              "      <td>June</td>\n",
              "      <td>17518</td>\n",
              "      <td>11067.0</td>\n",
              "      <td>132</td>\n",
              "    </tr>\n",
              "    <tr>\n",
              "      <th>540</th>\n",
              "      <td>June</td>\n",
              "      <td>18531</td>\n",
              "      <td>15507.0</td>\n",
              "      <td>98</td>\n",
              "    </tr>\n",
              "  </tbody>\n",
              "</table>\n",
              "<p>541 rows × 4 columns</p>\n",
              "</div>"
            ],
            "text/plain": [
              "     Date  Confirmed  Recovered  Deceased\n",
              "0     Jan          0        NaN         0\n",
              "1       F          0        NaN         0\n",
              "2       F          1        NaN         0\n",
              "3       F          1        NaN         0\n",
              "4       F          0        NaN         0\n",
              "..    ...        ...        ...       ...\n",
              "536  June      16848    12052.0       104\n",
              "537  June      17481    14131.0       105\n",
              "538  June      12818    13454.0       122\n",
              "539  June      17518    11067.0       132\n",
              "540  June      18531    15507.0        98\n",
              "\n",
              "[541 rows x 4 columns]"
            ]
          },
          "metadata": {
            "tags": []
          },
          "execution_count": 64
        }
      ]
    },
    {
      "cell_type": "code",
      "metadata": {
        "id": "TkVkaPsNrbca"
      },
      "source": [
        "X = df.loc[:,['Confirmed']].values\n",
        "y = df.loc[:,['Date']].values"
      ],
      "execution_count": null,
      "outputs": []
    },
    {
      "cell_type": "code",
      "metadata": {
        "id": "9BjKkEGn0A-U"
      },
      "source": [
        "from sklearn.preprocessing import StandardScaler\n",
        "sc = StandardScaler()\n",
        "X = sc.fit_transform(X)"
      ],
      "execution_count": null,
      "outputs": []
    },
    {
      "cell_type": "code",
      "metadata": {
        "id": "7uezgLbG0N-d"
      },
      "source": [
        "#Splitting the data into train and test data\n",
        "from sklearn.model_selection import train_test_split\n",
        "X_train,X_test,y_train,y_test = train_test_split(X,y,random_state = 0, test_size = 0.25)"
      ],
      "execution_count": null,
      "outputs": []
    },
    {
      "cell_type": "code",
      "metadata": {
        "id": "7hZicucL0TPs"
      },
      "source": [
        "#importing classification metrics\n",
        "from sklearn.metrics import confusion_matrix,accuracy_score"
      ],
      "execution_count": null,
      "outputs": []
    },
    {
      "cell_type": "code",
      "metadata": {
        "id": "qWQRr-of0UWt"
      },
      "source": [
        "\n",
        "from sklearn.neighbors import KNeighborsClassifier"
      ],
      "execution_count": null,
      "outputs": []
    },
    {
      "cell_type": "code",
      "metadata": {
        "colab": {
          "base_uri": "https://localhost:8080/"
        },
        "id": "pj-XzBvw0b9s",
        "outputId": "9b86fb39-1d83-466f-d76e-fcc21ff7d3f6"
      },
      "source": [
        "acc_list = []\n",
        "err_list = []\n",
        "for i in range(1,25):\n",
        "    model = KNeighborsClassifier(n_neighbors=i)\n",
        "    model.fit(X_train,y_train)\n",
        "    y_pred = model.predict(X_test)\n",
        "    acc = accuracy_score(y_test,y_pred)\n",
        "#     print(\"For k = {}, accuracy = {}\".format(i,acc))\n",
        "    acc_list.append(acc)\n",
        "    err_list.append(1-acc)"
      ],
      "execution_count": null,
      "outputs": [
        {
          "output_type": "stream",
          "text": [
            "/usr/local/lib/python3.7/dist-packages/ipykernel_launcher.py:5: DataConversionWarning: A column-vector y was passed when a 1d array was expected. Please change the shape of y to (n_samples, ), for example using ravel().\n",
            "  \"\"\"\n",
            "/usr/local/lib/python3.7/dist-packages/ipykernel_launcher.py:5: DataConversionWarning: A column-vector y was passed when a 1d array was expected. Please change the shape of y to (n_samples, ), for example using ravel().\n",
            "  \"\"\"\n",
            "/usr/local/lib/python3.7/dist-packages/ipykernel_launcher.py:5: DataConversionWarning: A column-vector y was passed when a 1d array was expected. Please change the shape of y to (n_samples, ), for example using ravel().\n",
            "  \"\"\"\n",
            "/usr/local/lib/python3.7/dist-packages/ipykernel_launcher.py:5: DataConversionWarning: A column-vector y was passed when a 1d array was expected. Please change the shape of y to (n_samples, ), for example using ravel().\n",
            "  \"\"\"\n",
            "/usr/local/lib/python3.7/dist-packages/ipykernel_launcher.py:5: DataConversionWarning: A column-vector y was passed when a 1d array was expected. Please change the shape of y to (n_samples, ), for example using ravel().\n",
            "  \"\"\"\n",
            "/usr/local/lib/python3.7/dist-packages/ipykernel_launcher.py:5: DataConversionWarning: A column-vector y was passed when a 1d array was expected. Please change the shape of y to (n_samples, ), for example using ravel().\n",
            "  \"\"\"\n",
            "/usr/local/lib/python3.7/dist-packages/ipykernel_launcher.py:5: DataConversionWarning: A column-vector y was passed when a 1d array was expected. Please change the shape of y to (n_samples, ), for example using ravel().\n",
            "  \"\"\"\n",
            "/usr/local/lib/python3.7/dist-packages/ipykernel_launcher.py:5: DataConversionWarning: A column-vector y was passed when a 1d array was expected. Please change the shape of y to (n_samples, ), for example using ravel().\n",
            "  \"\"\"\n",
            "/usr/local/lib/python3.7/dist-packages/ipykernel_launcher.py:5: DataConversionWarning: A column-vector y was passed when a 1d array was expected. Please change the shape of y to (n_samples, ), for example using ravel().\n",
            "  \"\"\"\n",
            "/usr/local/lib/python3.7/dist-packages/ipykernel_launcher.py:5: DataConversionWarning: A column-vector y was passed when a 1d array was expected. Please change the shape of y to (n_samples, ), for example using ravel().\n",
            "  \"\"\"\n",
            "/usr/local/lib/python3.7/dist-packages/ipykernel_launcher.py:5: DataConversionWarning: A column-vector y was passed when a 1d array was expected. Please change the shape of y to (n_samples, ), for example using ravel().\n",
            "  \"\"\"\n",
            "/usr/local/lib/python3.7/dist-packages/ipykernel_launcher.py:5: DataConversionWarning: A column-vector y was passed when a 1d array was expected. Please change the shape of y to (n_samples, ), for example using ravel().\n",
            "  \"\"\"\n",
            "/usr/local/lib/python3.7/dist-packages/ipykernel_launcher.py:5: DataConversionWarning: A column-vector y was passed when a 1d array was expected. Please change the shape of y to (n_samples, ), for example using ravel().\n",
            "  \"\"\"\n",
            "/usr/local/lib/python3.7/dist-packages/ipykernel_launcher.py:5: DataConversionWarning: A column-vector y was passed when a 1d array was expected. Please change the shape of y to (n_samples, ), for example using ravel().\n",
            "  \"\"\"\n",
            "/usr/local/lib/python3.7/dist-packages/ipykernel_launcher.py:5: DataConversionWarning: A column-vector y was passed when a 1d array was expected. Please change the shape of y to (n_samples, ), for example using ravel().\n",
            "  \"\"\"\n",
            "/usr/local/lib/python3.7/dist-packages/ipykernel_launcher.py:5: DataConversionWarning: A column-vector y was passed when a 1d array was expected. Please change the shape of y to (n_samples, ), for example using ravel().\n",
            "  \"\"\"\n",
            "/usr/local/lib/python3.7/dist-packages/ipykernel_launcher.py:5: DataConversionWarning: A column-vector y was passed when a 1d array was expected. Please change the shape of y to (n_samples, ), for example using ravel().\n",
            "  \"\"\"\n",
            "/usr/local/lib/python3.7/dist-packages/ipykernel_launcher.py:5: DataConversionWarning: A column-vector y was passed when a 1d array was expected. Please change the shape of y to (n_samples, ), for example using ravel().\n",
            "  \"\"\"\n",
            "/usr/local/lib/python3.7/dist-packages/ipykernel_launcher.py:5: DataConversionWarning: A column-vector y was passed when a 1d array was expected. Please change the shape of y to (n_samples, ), for example using ravel().\n",
            "  \"\"\"\n",
            "/usr/local/lib/python3.7/dist-packages/ipykernel_launcher.py:5: DataConversionWarning: A column-vector y was passed when a 1d array was expected. Please change the shape of y to (n_samples, ), for example using ravel().\n",
            "  \"\"\"\n",
            "/usr/local/lib/python3.7/dist-packages/ipykernel_launcher.py:5: DataConversionWarning: A column-vector y was passed when a 1d array was expected. Please change the shape of y to (n_samples, ), for example using ravel().\n",
            "  \"\"\"\n",
            "/usr/local/lib/python3.7/dist-packages/ipykernel_launcher.py:5: DataConversionWarning: A column-vector y was passed when a 1d array was expected. Please change the shape of y to (n_samples, ), for example using ravel().\n",
            "  \"\"\"\n",
            "/usr/local/lib/python3.7/dist-packages/ipykernel_launcher.py:5: DataConversionWarning: A column-vector y was passed when a 1d array was expected. Please change the shape of y to (n_samples, ), for example using ravel().\n",
            "  \"\"\"\n",
            "/usr/local/lib/python3.7/dist-packages/ipykernel_launcher.py:5: DataConversionWarning: A column-vector y was passed when a 1d array was expected. Please change the shape of y to (n_samples, ), for example using ravel().\n",
            "  \"\"\"\n"
          ],
          "name": "stderr"
        }
      ]
    },
    {
      "cell_type": "code",
      "metadata": {
        "colab": {
          "base_uri": "https://localhost:8080/",
          "height": 295
        },
        "id": "x2n_mgVx0htd",
        "outputId": "dd2359ec-6164-4fd3-ddd2-662c714732c4"
      },
      "source": [
        "\n",
        "plt.plot(list(range(1,25)),err_list,c= 'r')\n",
        "plt.title('Error rate v/s K')\n",
        "plt.xlabel('K')\n",
        "plt.ylabel('Error rate')\n",
        "plt.show()"
      ],
      "execution_count": null,
      "outputs": [
        {
          "output_type": "display_data",
          "data": {
            "image/png": "[encoded data removed]",
            "text/plain": [
              "<Figure size 432x288 with 1 Axes>"
            ]
          },
          "metadata": {
            "tags": [],
            "needs_background": "light"
          }
        }
      ]
    },
    {
      "cell_type": "code",
      "metadata": {
        "colab": {
          "base_uri": "https://localhost:8080/"
        },
        "id": "oT7Zh0l00nzM",
        "outputId": "ec7aecd1-0796-43ee-c5c7-59b3967ac45d"
      },
      "source": [
        "model = KNeighborsClassifier(n_neighbors=5)\n",
        "model.fit(X_train,y_train)\n",
        "y_pred = model.predict(X_test)"
      ],
      "execution_count": null,
      "outputs": [
        {
          "output_type": "stream",
          "text": [
            "/usr/local/lib/python3.7/dist-packages/ipykernel_launcher.py:2: DataConversionWarning: A column-vector y was passed when a 1d array was expected. Please change the shape of y to (n_samples, ), for example using ravel().\n",
            "  \n"
          ],
          "name": "stderr"
        }
      ]
    },
    {
      "cell_type": "code",
      "metadata": {
        "colab": {
          "base_uri": "https://localhost:8080/"
        },
        "id": "V62k0Mv90qHl",
        "outputId": "51d12696-4b6f-481a-cf6e-1c9c34aa03b7"
      },
      "source": [
        "\n",
        "confusion_matrix(y_test,y_pred)"
      ],
      "execution_count": null,
      "outputs": [
        {
          "output_type": "execute_result",
          "data": {
            "text/plain": [
              "array([[ 7,  0,  0,  1,  0,  2,  3,  2,  1,  1,  0],\n",
              "       [ 0,  6,  0,  0,  0,  0,  4,  0,  0,  0,  0],\n",
              "       [ 1,  0,  3,  1,  3,  0,  0,  0,  0,  1,  0],\n",
              "       [ 1,  0,  2,  9,  1,  0,  1,  0,  0,  0,  0],\n",
              "       [ 0,  0,  5,  1,  3,  0,  0,  0,  0,  2,  0],\n",
              "       [ 0,  1,  0,  0,  0, 25,  0,  0,  0,  3,  0],\n",
              "       [ 1,  3,  0,  2,  0,  1,  3,  0,  0,  0,  0],\n",
              "       [ 4,  0,  0,  1,  0,  1,  2, 10,  0,  0,  0],\n",
              "       [ 0,  0,  0,  2,  1,  0,  0,  0,  3,  0,  0],\n",
              "       [ 0,  0,  0,  0,  2,  2,  0,  0,  1,  3,  0],\n",
              "       [ 0,  0,  0,  1,  0,  0,  1,  0,  0,  2,  0]])"
            ]
          },
          "metadata": {
            "tags": []
          },
          "execution_count": 75
        }
      ]
    },
    {
      "cell_type": "code",
      "metadata": {
        "colab": {
          "base_uri": "https://localhost:8080/"
        },
        "id": "kWsIrmBI0vs7",
        "outputId": "e905558c-0f39-4fae-9f9d-809ad68c87a3"
      },
      "source": [
        "\n",
        "accuracy_score(y_test,y_pred)"
      ],
      "execution_count": null,
      "outputs": [
        {
          "output_type": "execute_result",
          "data": {
            "text/plain": [
              "0.5294117647058824"
            ]
          },
          "metadata": {
            "tags": []
          },
          "execution_count": 76
        }
      ]
    }
  ]
}