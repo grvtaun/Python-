{
  "nbformat": 4,
  "nbformat_minor": 0,
  "metadata": {
    "colab": {
      "name": "Task 12 file handling.ipynb",
      "provenance": [],
      "authorship_tag": "ABX9TyN8rG3w2BJzOVgHFIuHaTDz",
      "include_colab_link": true
    },
    "kernelspec": {
      "name": "python3",
      "display_name": "Python 3"
    },
    "language_info": {
      "name": "python"
    }
  },
  "cells": [
    {
      "cell_type": "markdown",
      "metadata": {
        "id": "view-in-github",
        "colab_type": "text"
      },
      "source": [
        "<a href=\"https://colab.research.google.com/github/grvtaun/Python-/blob/main/Task_12_file_handling.ipynb\" target=\"_parent\"><img src=\"https://colab.research.google.com/assets/colab-badge.svg\" alt=\"Open In Colab\"/></a>"
      ]
    },
    {
      "cell_type": "code",
      "metadata": {
        "colab": {
          "base_uri": "https://localhost:8080/"
        },
        "id": "dLrl_mfGaj67",
        "outputId": "7b3c0a3c-74fa-4bd8-b784-d191c084a8f8"
      },
      "source": [
        "from google.colab import drive\n",
        "drive.mount('/drive')\n",
        "\n"
      ],
      "execution_count": null,
      "outputs": [
        {
          "output_type": "stream",
          "text": [
            "Drive already mounted at /drive; to attempt to forcibly remount, call drive.mount(\"/drive\", force_remount=True).\n"
          ],
          "name": "stdout"
        }
      ]
    },
    {
      "cell_type": "code",
      "metadata": {
        "colab": {
          "base_uri": "https://localhost:8080/",
          "height": 35
        },
        "id": "iYMjBH-acGDR",
        "outputId": "e645a766-a2c2-4779-dab6-8274e27f5cc0"
      },
      "source": [
        "file = open('file1.txt','r')\n",
        "file.read()"
      ],
      "execution_count": 10,
      "outputs": [
        {
          "output_type": "execute_result",
          "data": {
            "application/vnd.google.colaboratory.intrinsic+json": {
              "type": "string"
            },
            "text/plain": [
              "'Watch all the moviesWatch all the movies\\ntamasha\\nrockstar\\nbig bang'"
            ]
          },
          "metadata": {
            "tags": []
          },
          "execution_count": 10
        }
      ]
    },
    {
      "cell_type": "code",
      "metadata": {
        "colab": {
          "base_uri": "https://localhost:8080/",
          "height": 35
        },
        "id": "QCujraosjgDP",
        "outputId": "e6237dd3-76d4-412a-ff47-9cb3e390310a"
      },
      "source": [
        "file.read()\n"
      ],
      "execution_count": 11,
      "outputs": [
        {
          "output_type": "execute_result",
          "data": {
            "application/vnd.google.colaboratory.intrinsic+json": {
              "type": "string"
            },
            "text/plain": [
              "''"
            ]
          },
          "metadata": {
            "tags": []
          },
          "execution_count": 11
        }
      ]
    },
    {
      "cell_type": "code",
      "metadata": {
        "colab": {
          "base_uri": "https://localhost:8080/",
          "height": 35
        },
        "id": "TZAiRUuRjxg6",
        "outputId": "fbab141e-0a71-4285-ecf7-21c6ba7c708f"
      },
      "source": [
        "file.seek(0)\n",
        "file.readline()\n",
        "file.readline()"
      ],
      "execution_count": 12,
      "outputs": [
        {
          "output_type": "execute_result",
          "data": {
            "application/vnd.google.colaboratory.intrinsic+json": {
              "type": "string"
            },
            "text/plain": [
              "'tamasha\\n'"
            ]
          },
          "metadata": {
            "tags": []
          },
          "execution_count": 12
        }
      ]
    },
    {
      "cell_type": "code",
      "metadata": {
        "colab": {
          "base_uri": "https://localhost:8080/",
          "height": 35
        },
        "id": "2ACA6Xa2kPmF",
        "outputId": "22e0670f-50ec-43b1-d482-077248c74a6a"
      },
      "source": [
        "file.readline()"
      ],
      "execution_count": 13,
      "outputs": [
        {
          "output_type": "execute_result",
          "data": {
            "application/vnd.google.colaboratory.intrinsic+json": {
              "type": "string"
            },
            "text/plain": [
              "'rockstar\\n'"
            ]
          },
          "metadata": {
            "tags": []
          },
          "execution_count": 13
        }
      ]
    },
    {
      "cell_type": "code",
      "metadata": {
        "colab": {
          "base_uri": "https://localhost:8080/"
        },
        "id": "NF_F-yAZkjpr",
        "outputId": "ece4c93e-4eda-4cdc-db7d-6c345b95c462"
      },
      "source": [
        "file.seek(0)"
      ],
      "execution_count": 14,
      "outputs": [
        {
          "output_type": "execute_result",
          "data": {
            "text/plain": [
              "0"
            ]
          },
          "metadata": {
            "tags": []
          },
          "execution_count": 14
        }
      ]
    },
    {
      "cell_type": "code",
      "metadata": {
        "colab": {
          "base_uri": "https://localhost:8080/"
        },
        "id": "a-qTUvZlkUhN",
        "outputId": "27f776c8-a970-4bbc-e2a3-a0fbb3b04566"
      },
      "source": [
        "for i in file:\n",
        "  print(i)\n"
      ],
      "execution_count": 15,
      "outputs": [
        {
          "output_type": "stream",
          "text": [
            "Watch all the moviesWatch all the movies\n",
            "\n",
            "tamasha\n",
            "\n",
            "rockstar\n",
            "\n",
            "big bang\n"
          ],
          "name": "stdout"
        }
      ]
    },
    {
      "cell_type": "code",
      "metadata": {
        "colab": {
          "base_uri": "https://localhost:8080/"
        },
        "id": "Fpu7Y_ZHolDL",
        "outputId": "962c96bf-9dec-4807-b63b-9553892be6e4"
      },
      "source": [
        "file.seek(0)"
      ],
      "execution_count": 16,
      "outputs": [
        {
          "output_type": "execute_result",
          "data": {
            "text/plain": [
              "0"
            ]
          },
          "metadata": {
            "tags": []
          },
          "execution_count": 16
        }
      ]
    },
    {
      "cell_type": "code",
      "metadata": {
        "colab": {
          "base_uri": "https://localhost:8080/"
        },
        "id": "_UK4ufEvoKrT",
        "outputId": "778d180a-a1c6-4191-fead-42c1bdf3e504"
      },
      "source": [
        "list1 = file.readlines()\n",
        "print(list1[2]) "
      ],
      "execution_count": 17,
      "outputs": [
        {
          "output_type": "stream",
          "text": [
            "rockstar\n",
            "\n"
          ],
          "name": "stdout"
        }
      ]
    },
    {
      "cell_type": "code",
      "metadata": {
        "id": "xrXa6J5ppVbJ"
      },
      "source": [
        "file = open('file1.txt','a')\n",
        "file.write('/n End of all the movies')\n",
        "file.close()"
      ],
      "execution_count": 22,
      "outputs": []
    },
    {
      "cell_type": "code",
      "metadata": {
        "colab": {
          "base_uri": "https://localhost:8080/"
        },
        "id": "9-kOhjjMqOeM",
        "outputId": "e6df22c4-5f4b-438b-c9fb-4e7ef73224b1"
      },
      "source": [
        "file = open('file1.txt')\n",
        "print(file.read())\n",
        "file.close()"
      ],
      "execution_count": 23,
      "outputs": [
        {
          "output_type": "stream",
          "text": [
            "Watch all the moviesWatch all the movies\n",
            "tamasha\n",
            "rockstar\n",
            "big bangWatch all the moviesEnd of all the movies/n End of all the movies\n"
          ],
          "name": "stdout"
        }
      ]
    },
    {
      "cell_type": "code",
      "metadata": {
        "id": "9dPChU7HqOck"
      },
      "source": [
        "file = open('file1.txt','w')\n",
        "file.write(' Its a new movie')\n",
        "file.close()\n"
      ],
      "execution_count": 25,
      "outputs": []
    },
    {
      "cell_type": "code",
      "metadata": {
        "colab": {
          "base_uri": "https://localhost:8080/"
        },
        "id": "I8eDYP6Unqa2",
        "outputId": "16bfc483-9163-4728-9a93-eed8e034f621"
      },
      "source": [
        "file = open('file1.txt')\n",
        "print(file.read())\n",
        "file.close() "
      ],
      "execution_count": 26,
      "outputs": [
        {
          "output_type": "stream",
          "text": [
            " Its a new movie\n"
          ],
          "name": "stdout"
        }
      ]
    }
  ]
}