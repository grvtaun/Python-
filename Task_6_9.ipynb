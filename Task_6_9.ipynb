{
  "nbformat": 4,
  "nbformat_minor": 0,
  "metadata": {
    "colab": {
      "name": "Task 6-9",
      "provenance": [],
      "collapsed_sections": [],
      "authorship_tag": "ABX9TyOwm5zxhm4nD0207+tkFisN",
      "include_colab_link": true
    },
    "kernelspec": {
      "name": "python3",
      "display_name": "Python 3"
    },
    "language_info": {
      "name": "python"
    }
  },
  "cells": [
    {
      "cell_type": "markdown",
      "metadata": {
        "id": "view-in-github",
        "colab_type": "text"
      },
      "source": [
        "<a href=\"https://colab.research.google.com/github/grvtaun/Python-/blob/main/Task_6_9.ipynb\" target=\"_parent\"><img src=\"https://colab.research.google.com/assets/colab-badge.svg\" alt=\"Open In Colab\"/></a>"
      ]
    },
    {
      "cell_type": "markdown",
      "metadata": {
        "id": "5aUbOWGpZ4-X"
      },
      "source": [
        "Task 6\n"
      ]
    },
    {
      "cell_type": "code",
      "metadata": {
        "colab": {
          "base_uri": "https://localhost:8080/"
        },
        "id": "sSZZCwtoYBxX",
        "outputId": "83c53597-8656-4f82-dec2-0337ac3932e0"
      },
      "source": [
        "tup1 = (23,4,2,6,'yoga','gym','dance')\n",
        "list1 = list(tup1) \n",
        "print(list1)"
      ],
      "execution_count": null,
      "outputs": [
        {
          "output_type": "stream",
          "text": [
            "[23, 4, 2, 6, 'yoga', 'gym', 'dance']\n"
          ],
          "name": "stdout"
        }
      ]
    },
    {
      "cell_type": "code",
      "metadata": {
        "colab": {
          "base_uri": "https://localhost:8080/"
        },
        "id": "bE5qJPqeZXhJ",
        "outputId": "c2987b9f-fceb-48f5-b944-b6523ca4bff1"
      },
      "source": [
        "list1[4] = 'sing' \n",
        "print(list1)"
      ],
      "execution_count": null,
      "outputs": [
        {
          "output_type": "stream",
          "text": [
            "[23, 4, 2, 6, 'sing', 'gym', 'dance']\n"
          ],
          "name": "stdout"
        }
      ]
    },
    {
      "cell_type": "code",
      "metadata": {
        "colab": {
          "base_uri": "https://localhost:8080/"
        },
        "id": "R6Y-2vecZmcT",
        "outputId": "b53c0e88-7538-4f17-fa2d-2b2c9e416956"
      },
      "source": [
        "tup1 = tuple(list1)\n",
        "print(tup1)"
      ],
      "execution_count": null,
      "outputs": [
        {
          "output_type": "stream",
          "text": [
            "(23, 4, 2, 6, 'sing', 'gym', 'dance')\n"
          ],
          "name": "stdout"
        }
      ]
    },
    {
      "cell_type": "markdown",
      "metadata": {
        "id": "HutHpnmAZ4Q5"
      },
      "source": [
        "Task 7\n"
      ]
    },
    {
      "cell_type": "code",
      "metadata": {
        "colab": {
          "base_uri": "https://localhost:8080/"
        },
        "id": "eL_gtK9rZ_mK",
        "outputId": "1df90829-9cfc-4c7d-e843-927f7d9568db"
      },
      "source": [
        "A ={1,4,5,7,9}\n",
        "B = {2,9,5,6}\n",
        "print(A.difference(B))\n"
      ],
      "execution_count": null,
      "outputs": [
        {
          "output_type": "stream",
          "text": [
            "{1, 4, 7}\n"
          ],
          "name": "stdout"
        }
      ]
    },
    {
      "cell_type": "code",
      "metadata": {
        "colab": {
          "base_uri": "https://localhost:8080/"
        },
        "id": "4GDnF79kiyLv",
        "outputId": "54baad78-f8e4-4f04-e6ee-2eeb8e433bf4"
      },
      "source": [
        "print(B.difference(A))"
      ],
      "execution_count": null,
      "outputs": [
        {
          "output_type": "stream",
          "text": [
            "{2, 6}\n"
          ],
          "name": "stdout"
        }
      ]
    },
    {
      "cell_type": "code",
      "metadata": {
        "colab": {
          "base_uri": "https://localhost:8080/"
        },
        "id": "BVWPTjkDldNx",
        "outputId": "fc1de65b-f467-4443-d32b-af81c087eb82"
      },
      "source": [
        "print(A.symmetric_difference(B))"
      ],
      "execution_count": null,
      "outputs": [
        {
          "output_type": "stream",
          "text": [
            "{1, 2, 4, 6, 7}\n"
          ],
          "name": "stdout"
        }
      ]
    },
    {
      "cell_type": "code",
      "metadata": {
        "colab": {
          "base_uri": "https://localhost:8080/"
        },
        "id": "HxyNXyM7lbjQ",
        "outputId": "2b7b9e41-533e-4793-ea25-cdc1a42abdcc"
      },
      "source": [
        "print(B.symmetric_difference(A))"
      ],
      "execution_count": null,
      "outputs": [
        {
          "output_type": "stream",
          "text": [
            "{1, 2, 4, 6, 7}\n"
          ],
          "name": "stdout"
        }
      ]
    },
    {
      "cell_type": "code",
      "metadata": {
        "colab": {
          "base_uri": "https://localhost:8080/"
        },
        "id": "P-RiXA1GmFyF",
        "outputId": "63b4ebe2-6954-4b1e-8474-8f25506ced47"
      },
      "source": [
        "c = {2,6,4,8,1}\n",
        "print(A ^ c)"
      ],
      "execution_count": null,
      "outputs": [
        {
          "output_type": "stream",
          "text": [
            "{2, 5, 6, 7, 8, 9}\n"
          ],
          "name": "stdout"
        }
      ]
    },
    {
      "cell_type": "code",
      "metadata": {
        "colab": {
          "base_uri": "https://localhost:8080/"
        },
        "id": "23zCKODemf1X",
        "outputId": "bb5e58ff-fd3f-4931-8629-25ac80f3ba26"
      },
      "source": [
        "print(B^c)"
      ],
      "execution_count": null,
      "outputs": [
        {
          "output_type": "stream",
          "text": [
            "{1, 4, 5, 8, 9}\n"
          ],
          "name": "stdout"
        }
      ]
    },
    {
      "cell_type": "code",
      "metadata": {
        "id": "Bt3jjkVTplD6"
      },
      "source": [
        ""
      ],
      "execution_count": null,
      "outputs": []
    },
    {
      "cell_type": "markdown",
      "metadata": {
        "id": "ltRMumOPphgD"
      },
      "source": [
        "Task 9 \n"
      ]
    },
    {
      "cell_type": "code",
      "metadata": {
        "colab": {
          "base_uri": "https://localhost:8080/"
        },
        "id": "UKQpIvmGxA3t",
        "outputId": "03590e0a-42de-40c9-d213-23c6c0181455"
      },
      "source": [
        "num1 = int(input(\"Enter First Number: \"))\n",
        "num2 = int(input(\"Enter Second Number: \"))\n",
        "\n",
        "print(\"Enter which operation would you like to perform?\")\n",
        "nm = input(\"Enter any of these number for specific operation: 1 for addition,2 for subtraction,3 for multiplication,4 for division: \")\n",
        "\n",
        "result = 0\n",
        "if nm == '1':\n",
        "    result = num1 + num2\n",
        "elif nm == '2':\n",
        "    result = num1 - num2\n",
        "elif nm == '3':\n",
        "    result = num1 * num2\n",
        "elif nm == '4':\n",
        "    result = num1 / num2\n",
        "else:\n",
        "    print(\"Input number is invalid\")\n",
        "\n",
        "print(result)"
      ],
      "execution_count": 4,
      "outputs": [
        {
          "output_type": "stream",
          "text": [
            "Enter First Number: 9\n",
            "Enter Second Number: 4\n",
            "Enter which operation would you like to perform?\n",
            "Enter any of these number for specific operation: 1 for addition,2 for subtraction,3 for multiplication,4 for division: 3\n",
            "36\n"
          ],
          "name": "stdout"
        }
      ]
    }
  ]
}