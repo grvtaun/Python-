{
  "nbformat": 4,
  "nbformat_minor": 0,
  "metadata": {
    "colab": {
      "name": "Tast 3-4.ipynb",
      "provenance": [],
      "collapsed_sections": [],
      "authorship_tag": "ABX9TyNXkQf2Ts/9tOrnuo5Rd9AL",
      "include_colab_link": true
    },
    "kernelspec": {
      "name": "python3",
      "display_name": "Python 3"
    },
    "language_info": {
      "name": "python"
    }
  },
  "cells": [
    {
      "cell_type": "markdown",
      "metadata": {
        "id": "view-in-github",
        "colab_type": "text"
      },
      "source": [
        "<a href=\"https://colab.research.google.com/github/grvtaun/Python-/blob/main/Tast_3_4.ipynb\" target=\"_parent\"><img src=\"https://colab.research.google.com/assets/colab-badge.svg\" alt=\"Open In Colab\"/></a>"
      ]
    },
    {
      "cell_type": "code",
      "metadata": {
        "colab": {
          "base_uri": "https://localhost:8080/"
        },
        "id": "fELEeQdi9ZdR",
        "outputId": "fd228252-a3cc-4985-a0fa-04c69f8bde09"
      },
      "source": [
        "list2 = [1,2,3,4,5,6,7,8,9]\n",
        "print(list2)"
      ],
      "execution_count": null,
      "outputs": [
        {
          "output_type": "stream",
          "text": [
            "[1, 2, 3, 4, 5, 6, 7, 8, 9]\n"
          ],
          "name": "stdout"
        }
      ]
    },
    {
      "cell_type": "code",
      "metadata": {
        "colab": {
          "base_uri": "https://localhost:8080/"
        },
        "id": "FPv6TlcN9ukR",
        "outputId": "3eb82e31-5bc6-4436-c417-55f3670d3b34"
      },
      "source": [
        "list2.remove(4)\n",
        "print(list2)\n"
      ],
      "execution_count": null,
      "outputs": [
        {
          "output_type": "stream",
          "text": [
            "[1, 2, 3, 5, 6, 7, 8, 9]\n"
          ],
          "name": "stdout"
        }
      ]
    },
    {
      "cell_type": "markdown",
      "metadata": {
        "id": "lK83Dob9Qkw3"
      },
      "source": [
        "remove() function tends to remove the given object from the list and cannot be replaced again. \n",
        "\n",
        "\\"
      ]
    },
    {
      "cell_type": "code",
      "metadata": {
        "colab": {
          "base_uri": "https://localhost:8080/"
        },
        "id": "v4Rf-LvERk0i",
        "outputId": "6e8bc825-5a8a-490d-88b2-2ed10e0a8419"
      },
      "source": [
        "str1 = [1,2,3,1,2,2,4,5,6]\n",
        "while(str1.count(2)):str1.remove(2)\n",
        "print(str1)"
      ],
      "execution_count": null,
      "outputs": [
        {
          "output_type": "stream",
          "text": [
            "[1, 3, 1, 4, 5, 6]\n"
          ],
          "name": "stdout"
        }
      ]
    },
    {
      "cell_type": "code",
      "metadata": {
        "colab": {
          "base_uri": "https://localhost:8080/"
        },
        "id": "QjIhzQTHTXgT",
        "outputId": "f237d810-16c7-4335-9520-8244e9a2431a"
      },
      "source": [
        "while 1 in str1: str1.remove(1)\n",
        "print(str1)\n",
        "\n"
      ],
      "execution_count": null,
      "outputs": [
        {
          "output_type": "stream",
          "text": [
            "[3, 4, 5, 6]\n"
          ],
          "name": "stdout"
        }
      ]
    },
    {
      "cell_type": "markdown",
      "metadata": {
        "id": "ok5gnxqATBXc"
      },
      "source": [
        "Count() is used to remove a particular object from the list all together. "
      ]
    },
    {
      "cell_type": "code",
      "metadata": {
        "colab": {
          "base_uri": "https://localhost:8080/"
        },
        "id": "M5pgtEjLSMiY",
        "outputId": "1909dbf9-3d03-46d0-9881-bc5e2f87067f"
      },
      "source": [
        "abc = [23,'Riya','lives',2,'km','away']\n",
        "print(abc)\n",
        "abc.clear()\n",
        "print(abc)"
      ],
      "execution_count": null,
      "outputs": [
        {
          "output_type": "stream",
          "text": [
            "[23, 'Riya', 'lives', 2, 'km', 'away']\n",
            "[]\n"
          ],
          "name": "stdout"
        }
      ]
    },
    {
      "cell_type": "markdown",
      "metadata": {
        "id": "dLiDWu2eX_ng"
      },
      "source": [
        "Clear() function is used to clear all the objects from the list at once. \n"
      ]
    },
    {
      "cell_type": "code",
      "metadata": {
        "colab": {
          "base_uri": "https://localhost:8080/"
        },
        "id": "xMrXdI0EFOGU",
        "outputId": "93c8d874-958c-4ebf-d784-d98a63ff9de2"
      },
      "source": [
        "Height = [2.01, 2.00, 3.67, 3.28, 1.68]\n",
        "Height.sort() # assceding order sorting\n",
        "print(Height)"
      ],
      "execution_count": null,
      "outputs": [
        {
          "output_type": "stream",
          "text": [
            "[1.68, 2.0, 2.01, 3.28, 3.67]\n"
          ],
          "name": "stdout"
        }
      ]
    },
    {
      "cell_type": "markdown",
      "metadata": {
        "id": "MDe0YWrgFq1S"
      },
      "source": [
        ""
      ]
    },
    {
      "cell_type": "code",
      "metadata": {
        "colab": {
          "base_uri": "https://localhost:8080/"
        },
        "id": "9y1sNy7VI3LB",
        "outputId": "91f1a139-7c1a-4746-8d9a-ffa39dd4ab66"
      },
      "source": [
        "Height.sort(reverse=True) #Descending order sorting\n",
        "print(Height)"
      ],
      "execution_count": null,
      "outputs": [
        {
          "output_type": "stream",
          "text": [
            "[3.67, 3.28, 2.01, 2.0, 1.68]\n"
          ],
          "name": "stdout"
        }
      ]
    },
    {
      "cell_type": "code",
      "metadata": {
        "colab": {
          "base_uri": "https://localhost:8080/"
        },
        "id": "jLvtjeuYnIqg",
        "outputId": "5d43ce5a-b738-4de5-f3e8-21cc5eb56b7b"
      },
      "source": [
        "slot = [2,4,6,7,3,1,6,7, 'yo', 2,'rat']\n",
        "slot.reverse() #to reverse all the objects in the list. \n",
        "print(slot)"
      ],
      "execution_count": null,
      "outputs": [
        {
          "output_type": "stream",
          "text": [
            "['rat', 2, 'yo', 7, 6, 1, 3, 7, 6, 4, 2]\n"
          ],
          "name": "stdout"
        }
      ]
    },
    {
      "cell_type": "markdown",
      "metadata": {
        "id": "6JS8HyvHUJn0"
      },
      "source": [
        "Task 3.2 "
      ]
    },
    {
      "cell_type": "code",
      "metadata": {
        "id": "3WgRtRQYSjHD"
      },
      "source": [
        ""
      ],
      "execution_count": null,
      "outputs": []
    },
    {
      "cell_type": "code",
      "metadata": {
        "colab": {
          "base_uri": "https://localhost:8080/"
        },
        "id": "N3h6opnXTpT0",
        "outputId": "b32488df-fd72-44c4-b3e0-c48b63c6b5ec"
      },
      "source": [
        "lenght =[1,2,3,4,5,6,7,8,9,10]\n",
        "lenght[5:8]"
      ],
      "execution_count": null,
      "outputs": [
        {
          "output_type": "execute_result",
          "data": {
            "text/plain": [
              "[6, 7, 8]"
            ]
          },
          "metadata": {
            "tags": []
          },
          "execution_count": 4
        }
      ]
    },
    {
      "cell_type": "markdown",
      "metadata": {
        "id": "qj6TVv1pmpRp"
      },
      "source": [
        "Task 4 \n"
      ]
    },
    {
      "cell_type": "code",
      "metadata": {
        "colab": {
          "base_uri": "https://localhost:8080/"
        },
        "id": "MOFzkjCVms3M",
        "outputId": "39e6e88e-9334-435e-9e50-9d5abfde96d3"
      },
      "source": [
        "l1 = [10,20, [30, 40, [50, 60], 80], 90, 100]\n",
        "l1[2][2].append('70')\n",
        "print(l1)\n",
        "\n"
      ],
      "execution_count": 62,
      "outputs": [
        {
          "output_type": "stream",
          "text": [
            "[10, 20, [30, 40, [50, 60, '70'], 80], 90, 100]\n"
          ],
          "name": "stdout"
        }
      ]
    },
    {
      "cell_type": "code",
      "metadata": {
        "colab": {
          "base_uri": "https://localhost:8080/"
        },
        "id": "NJ5RIzjiKgcV",
        "outputId": "13ee5409-1a3d-4e0c-839f-b5565308214a"
      },
      "source": [
        "l2 = [1,2,[3,4,5,6],9]\n",
        "l2[2].append('[6,7]')\n",
        "print(l2)"
      ],
      "execution_count": 64,
      "outputs": [
        {
          "output_type": "stream",
          "text": [
            "[1, 2, [3, 4, 5, 6, '[6,7]'], 9]\n"
          ],
          "name": "stdout"
        }
      ]
    }
  ]
}