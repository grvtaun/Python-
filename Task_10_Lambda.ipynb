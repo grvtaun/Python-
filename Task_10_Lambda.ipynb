{
  "nbformat": 4,
  "nbformat_minor": 0,
  "metadata": {
    "colab": {
      "name": "Task 10 Lambda.ipynb",
      "provenance": [],
      "collapsed_sections": [],
      "authorship_tag": "ABX9TyNElt7YwvJ2drHLmDwG0ZUn",
      "include_colab_link": true
    },
    "kernelspec": {
      "name": "python3",
      "display_name": "Python 3"
    },
    "language_info": {
      "name": "python"
    }
  },
  "cells": [
    {
      "cell_type": "markdown",
      "metadata": {
        "id": "view-in-github",
        "colab_type": "text"
      },
      "source": [
        "<a href=\"https://colab.research.google.com/github/grvtaun/Python-/blob/main/Task_10_Lambda.ipynb\" target=\"_parent\"><img src=\"https://colab.research.google.com/assets/colab-badge.svg\" alt=\"Open In Colab\"/></a>"
      ]
    },
    {
      "cell_type": "markdown",
      "metadata": {
        "id": "xEty6x03tgHy"
      },
      "source": [
        "Task - 10"
      ]
    },
    {
      "cell_type": "code",
      "metadata": {
        "colab": {
          "base_uri": "https://localhost:8080/"
        },
        "id": "6R3OfK2TKfxq",
        "outputId": "28ef1723-fa3b-46cf-e03a-023d6f007607"
      },
      "source": [
        "x ='paperworks'\n",
        "\n",
        "z = [i for i in x]\n",
        "print(z)\n"
      ],
      "execution_count": 9,
      "outputs": [
        {
          "output_type": "stream",
          "text": [
            "['p', 'a', 'p', 'e', 'r', 'w', 'o', 'r', 'k', 's']\n"
          ],
          "name": "stdout"
        }
      ]
    },
    {
      "cell_type": "code",
      "metadata": {
        "colab": {
          "base_uri": "https://localhost:8080/"
        },
        "id": "Jng7a1uwLuOC",
        "outputId": "96fff88e-b0c0-4608-a354-155391146a4a"
      },
      "source": [
        "z = [i for i in range(10) if i>2]\n",
        "print(z)"
      ],
      "execution_count": 13,
      "outputs": [
        {
          "output_type": "stream",
          "text": [
            "[3, 4, 5, 6, 7, 8, 9]\n"
          ],
          "name": "stdout"
        }
      ]
    },
    {
      "cell_type": "code",
      "metadata": {
        "id": "lEWt4C2RLg64"
      },
      "source": [
        "x  = 'PythonList'\n"
      ],
      "execution_count": null,
      "outputs": []
    },
    {
      "cell_type": "code",
      "metadata": {
        "colab": {
          "base_uri": "https://localhost:8080/"
        },
        "id": "Ec75-q-lLh0q",
        "outputId": "f510202f-a703-4218-aaf6-6f6850967673"
      },
      "source": [
        "x_list = [char for char in x]\n",
        "print(x_list)"
      ],
      "execution_count": 6,
      "outputs": [
        {
          "output_type": "stream",
          "text": [
            "['P', 'y', 't', 'h', 'o', 'n', 'L', 'i', 's', 't']\n"
          ],
          "name": "stdout"
        }
      ]
    },
    {
      "cell_type": "code",
      "metadata": {
        "colab": {
          "base_uri": "https://localhost:8080/"
        },
        "id": "1jRVC_RrNUBh",
        "outputId": "9b808cd8-71ef-48dd-d875-d662eca6ac6c"
      },
      "source": [
        "x = [2,4,6,8,10]\n",
        "for i in map(square,x):\n",
        "  print(i)\n",
        "list(map(square,x))"
      ],
      "execution_count": 40,
      "outputs": [
        {
          "output_type": "stream",
          "text": [
            "4\n",
            "16\n",
            "36\n",
            "64\n",
            "100\n"
          ],
          "name": "stdout"
        },
        {
          "output_type": "execute_result",
          "data": {
            "text/plain": [
              "[4, 16, 36, 64, 100]"
            ]
          },
          "metadata": {
            "tags": []
          },
          "execution_count": 40
        }
      ]
    },
    {
      "cell_type": "code",
      "metadata": {
        "colab": {
          "base_uri": "https://localhost:8080/"
        },
        "id": "jY9LIjtpl_fB",
        "outputId": "f2f2e83e-d469-40cc-bb9f-5d2a84f640fe"
      },
      "source": [
        "my_nums = [1,2,3,4,5]\n",
        "def square(num):\n",
        "    return num**2\n",
        "\n",
        "for item in map(square,my_nums):\n",
        "    print(item)"
      ],
      "execution_count": 27,
      "outputs": [
        {
          "output_type": "stream",
          "text": [
            "1\n",
            "4\n",
            "9\n",
            "16\n",
            "25\n"
          ],
          "name": "stdout"
        }
      ]
    },
    {
      "cell_type": "code",
      "metadata": {
        "colab": {
          "base_uri": "https://localhost:8080/"
        },
        "id": "or-qkUERnvB8",
        "outputId": "d738fb0b-4062-4d55-eb1f-5af01768e37e"
      },
      "source": [
        "A = [1,2,3,4,5]\n",
        "\n",
        "def even_odd(A):\n",
        "   if (A%2 == 0):\n",
        "     return 'even'\n",
        "   else:\n",
        "    return 'odd'\n",
        "\n",
        "\n",
        "list(map(even_odd,A))"
      ],
      "execution_count": 51,
      "outputs": [
        {
          "output_type": "execute_result",
          "data": {
            "text/plain": [
              "['odd', 'even', 'odd', 'even', 'odd']"
            ]
          },
          "metadata": {
            "tags": []
          },
          "execution_count": 51
        }
      ]
    },
    {
      "cell_type": "code",
      "metadata": {
        "colab": {
          "base_uri": "https://localhost:8080/"
        },
        "id": "O2L3bjkq3PmF",
        "outputId": "88c633f9-0cff-4306-c08e-85980c3a5e2b"
      },
      "source": [
        "from functools import reduce\n",
        "\n",
        "numbers = [1, 2, 3, 4]\n",
        "\n",
        "reduce(lambda a, b: a + b, numbers)"
      ],
      "execution_count": 55,
      "outputs": [
        {
          "output_type": "execute_result",
          "data": {
            "text/plain": [
              "10"
            ]
          },
          "metadata": {
            "tags": []
          },
          "execution_count": 55
        }
      ]
    },
    {
      "cell_type": "code",
      "metadata": {
        "colab": {
          "base_uri": "https://localhost:8080/"
        },
        "id": "LrBUhw774VNK",
        "outputId": "a942d0fc-f2d0-4d21-be9c-f3eb62ebc578"
      },
      "source": [
        "from functools import reduce\n",
        "\n",
        "numbers = [1, 2, 3, 4]\n",
        "\n",
        "reduce(lambda a, b: a * b, numbers)"
      ],
      "execution_count": 56,
      "outputs": [
        {
          "output_type": "execute_result",
          "data": {
            "text/plain": [
              "24"
            ]
          },
          "metadata": {
            "tags": []
          },
          "execution_count": 56
        }
      ]
    },
    {
      "cell_type": "code",
      "metadata": {
        "colab": {
          "base_uri": "https://localhost:8080/"
        },
        "id": "AtG8Ofo54ylI",
        "outputId": "78a5efa8-880a-440f-b9d5-e80a03755faf"
      },
      "source": [
        "\n",
        "from functools import reduce\n",
        "\n",
        "mul(2,3)\n",
        "4\n",
        "\n",
        "numbers = [1, 2, 3, 4]\n",
        "\n",
        "reduce(mul, numbers,2) #reduce(function, iterable,[initializer])"
      ],
      "execution_count": 8,
      "outputs": [
        {
          "output_type": "execute_result",
          "data": {
            "text/plain": [
              "48"
            ]
          },
          "metadata": {
            "tags": []
          },
          "execution_count": 8
        }
      ]
    },
    {
      "cell_type": "markdown",
      "metadata": {
        "id": "KpNO8I1E7sYe"
      },
      "source": [
        "Python’s reduce() is a function that implements a mathematical technique called folding or reduction. reduce() is useful when you need to apply a function to an iterable and reduce it to a single cumulative value.\n",
        "\n",
        "reduce(function, iterable,[initializer])\n",
        "\n",
        "The reduce function can take in three arguments, two of which are required. The two required arguments are: a function (that itself takes in two arguments), and an iterable (such as a list). The third argument, which is an initializer,The default value for it is None. If we pass in an initializer, it will be used as the first x value by reduce (instead of x being the first element of the iterable)\n"
      ]
    },
    {
      "cell_type": "code",
      "metadata": {
        "colab": {
          "base_uri": "https://localhost:8080/"
        },
        "id": "4a9OAEYP1Inb",
        "outputId": "ba29d01a-6b53-45c2-b434-2c555ab0ec9b"
      },
      "source": [
        "l1 = [\"red\",\"blue\",\"green\"]\n",
        "s1 = \"geek\"\n",
        " \n",
        "# creating enumerate objects\n",
        "obj1 = enumerate(l1)\n",
        "obj2 = enumerate(s1)\n",
        " \n",
        "print (\"Return type:\",type(obj1))\n",
        "print (list(enumerate(l1)))\n",
        " \n",
        "# changing start index to 2 from 0\n",
        "print (list(enumerate(s1,2)))"
      ],
      "execution_count": 1,
      "outputs": [
        {
          "output_type": "stream",
          "text": [
            "Return type: <class 'enumerate'>\n",
            "[(0, 'eat'), (1, 'sleep'), (2, 'repeat')]\n",
            "[(2, 'g'), (3, 'e'), (4, 'e'), (5, 'k')]\n"
          ],
          "name": "stdout"
        }
      ]
    },
    {
      "cell_type": "code",
      "metadata": {
        "colab": {
          "base_uri": "https://localhost:8080/"
        },
        "id": "wccqH26cDXo0",
        "outputId": "47ecdb86-5942-4702-dfdc-e0be5e5f9f17"
      },
      "source": [
        "l1 = [\"eat\",\"sleep\",\"repeat\"]\n",
        " \n",
        "# printing the tuples in object directly\n",
        "for ele in enumerate(l1):\n",
        "    print (ele)\n",
        "print\n",
        "# changing index and printing separately\n",
        "for count,ele in enumerate(l1,100):\n",
        "    print (count,ele)"
      ],
      "execution_count": 1,
      "outputs": [
        {
          "output_type": "stream",
          "text": [
            "(0, 'eat')\n",
            "(1, 'sleep')\n",
            "(2, 'repeat')\n",
            "100 eat\n",
            "101 sleep\n",
            "102 repeat\n"
          ],
          "name": "stdout"
        }
      ]
    },
    {
      "cell_type": "markdown",
      "metadata": {
        "id": "Zy99mWCpGKYA"
      },
      "source": [
        "Enumerate() method adds a counter to an iterable and returns it in a form of enumerate object. This enumerate object can then be used directly in for loops or be converted into a list of tuples using list() method.\n"
      ]
    },
    {
      "cell_type": "code",
      "metadata": {
        "colab": {
          "base_uri": "https://localhost:8080/"
        },
        "id": "hDEN1OWNRpQl",
        "outputId": "7e94f3aa-2a74-4cb2-a549-d6f7ebe1b052"
      },
      "source": [
        "s1 = {2, 3, 1}\n",
        "s2 = {'b', 'a', 'c'}\n",
        "list(zip(s1, s2))"
      ],
      "execution_count": 3,
      "outputs": [
        {
          "output_type": "execute_result",
          "data": {
            "text/plain": [
              "[(1, 'b'), (2, 'c'), (3, 'a')]"
            ]
          },
          "metadata": {
            "tags": []
          },
          "execution_count": 3
        }
      ]
    },
    {
      "cell_type": "code",
      "metadata": {
        "colab": {
          "base_uri": "https://localhost:8080/"
        },
        "id": "-1h0Qrctmkfp",
        "outputId": "49de8bdd-83b9-42f0-a2c8-33c95ada5a99"
      },
      "source": [
        "s1 = \"Java\"\n",
        "s2 = \"Python\"\n",
        "s3 = \"PHP\"\n",
        "print(list(zip(s1, s2, s3)))"
      ],
      "execution_count": 4,
      "outputs": [
        {
          "output_type": "stream",
          "text": [
            "[('J', 'P', 'P'), ('a', 'y', 'H'), ('v', 't', 'P')]\n"
          ],
          "name": "stdout"
        }
      ]
    },
    {
      "cell_type": "code",
      "metadata": {
        "colab": {
          "base_uri": "https://localhost:8080/"
        },
        "id": "KutKsrwXmnHg",
        "outputId": "1c3c2182-ac69-41c9-fd42-9db28ec1f9a8"
      },
      "source": [
        "items = ['book', 'keyboard','pen', 'mouse']\n",
        "price = [325, 500, 75, 250]\n",
        "sortedlist = sorted(list(zip(price,items)))\n",
        "print(sortedlist)"
      ],
      "execution_count": 9,
      "outputs": [
        {
          "output_type": "stream",
          "text": [
            "[(75, 'pen'), (250, 'mouse'), (325, 'book'), (500, 'keyboard')]\n"
          ],
          "name": "stdout"
        }
      ]
    },
    {
      "cell_type": "markdown",
      "metadata": {
        "id": "cY4wD0Cmpzgr"
      },
      "source": [
        "The zip() method takes one or more iterables (such as list, tuple, string, etc.) and constructs the iterator of tuples where each tuple contains elements from each iterable."
      ]
    }
  ]
}